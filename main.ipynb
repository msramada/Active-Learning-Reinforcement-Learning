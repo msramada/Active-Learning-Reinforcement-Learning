{
 "cells": [
  {
   "cell_type": "code",
   "execution_count": 14,
   "metadata": {},
   "outputs": [
    {
     "name": "stdout",
     "output_type": "stream",
     "text": [
      "cpu\n"
     ]
    }
   ],
   "source": [
    "import numpy as np\n",
    "from collections import deque\n",
    "import control\n",
    "import torch\n",
    "torch.set_default_dtype(torch.float64)\n",
    "\n",
    "import matplotlib.pyplot as plt\n",
    "import matplotlib.colors as colors\n",
    "saveFigs = True\n",
    "FigDim1 = 3.0\n",
    "FigDim2 = 1.5\n",
    "\n",
    "from DeterministicPolicyGradient import DDPGagent\n",
    "from utils import *\n",
    "from ExtendedKF import *\n",
    "from Example_system import *\n",
    "from sqrtm import sqrtm\n",
    "import time\n",
    "import pylab as pl\n",
    "from IPython import display\n",
    "\n",
    "device = torch.device(\"cuda\" if torch.cuda.is_available() else \"cpu\")\n",
    "deviceCPU = \"cpu\"\n",
    "print(device)"
   ]
  },
  {
   "cell_type": "code",
   "execution_count": 15,
   "metadata": {},
   "outputs": [],
   "source": [
    "# Define model: dynamics, dynamics gradients, and noise covariances.\n",
    "model = Model(stateDynamics, measurementDynamics, Q, R)\n",
    "# Define information state: (mean, covariance), from an extended Kalman Fitler.\n",
    "x0=torch.tensor([[0.1, 0.1, 0.1]])\n",
    "P0=torch.diag(torch.tensor([0.5,0.5,0.5]))\n",
    "Hyperstate = Extended_KF(x0, P0, model)\n",
    "hidden_size = 64\n",
    "actor_lr = 1e-5# * 10\n",
    "critic_lr = actor_lr * 10\n",
    "#noise = OUNoise(ru, uMax, uMin)\n",
    "Horizon_Length = 32\n",
    "RollOuts = 16*2\n",
    "batch_size = 32#Horizon_Length# * RollOuts\n",
    "gamma = 0.95\n",
    "Max_reward = 500\n",
    "EffectiveHorizonLength = (1 - gamma ** Horizon_Length) / (1 - gamma)\n",
    "agent = DDPGagent(rx,ru, device, hidden_size, actor_lr, critic_lr, gamma, max_memory_size= batch_size * 32, tau=0.01)"
   ]
  },
  {
   "cell_type": "code",
   "execution_count": 16,
   "metadata": {},
   "outputs": [
    {
     "name": "stdout",
     "output_type": "stream",
     "text": [
      "[[], 1]\n"
     ]
    }
   ],
   "source": [
    "a = []\n",
    "a = [a, 1]\n",
    "print(a)"
   ]
  },
  {
   "cell_type": "code",
   "execution_count": 17,
   "metadata": {},
   "outputs": [],
   "source": [
    "def half_vectorize(A):\n",
    "    n = A.shape[0]\n",
    "    m = round((n ** 2 + n)/2)\n",
    "    v = torch.zeros(m, 1)\n",
    "    k = 0\n",
    "    for i in range(n):\n",
    "        for j in range(n):\n",
    "            if (i <= j):\n",
    "                v[k,0] = A[i,j]\n",
    "                k += 1\n",
    "    return v\n",
    "            \n",
    "        "
   ]
  },
  {
   "cell_type": "code",
   "execution_count": 18,
   "metadata": {},
   "outputs": [
    {
     "name": "stdout",
     "output_type": "stream",
     "text": [
      "0\n"
     ]
    },
    {
     "ename": "RuntimeError",
     "evalue": "output with shape [] doesn't match the broadcast shape [1, 1]",
     "output_type": "error",
     "traceback": [
      "\u001b[0;31m---------------------------------------------------------------------------\u001b[0m",
      "\u001b[0;31mRuntimeError\u001b[0m                              Traceback (most recent call last)",
      "Cell \u001b[0;32mIn[18], line 39\u001b[0m\n\u001b[1;32m     37\u001b[0m         agent\u001b[38;5;241m.\u001b[39mmemory\u001b[38;5;241m.\u001b[39mpush(state, action, new_state\u001b[38;5;241m.\u001b[39mT, reward)\n\u001b[1;32m     38\u001b[0m         state \u001b[38;5;241m=\u001b[39m new_state\n\u001b[0;32m---> 39\u001b[0m         \u001b[43mepisode_reward\u001b[49m\u001b[43m \u001b[49m\u001b[38;5;241;43m+\u001b[39;49m\u001b[38;5;241;43m=\u001b[39;49m\u001b[43m \u001b[49m\u001b[43mreward\u001b[49m\u001b[43m \u001b[49m\u001b[38;5;241;43m*\u001b[39;49m\u001b[43m \u001b[49m\u001b[43mgamma\u001b[49m\u001b[43m \u001b[49m\u001b[38;5;241;43m*\u001b[39;49m\u001b[38;5;241;43m*\u001b[39;49m\u001b[43m \u001b[49m\u001b[43mstep\u001b[49m\n\u001b[1;32m     40\u001b[0m \u001b[38;5;28;01mif\u001b[39;00m \u001b[38;5;28mlen\u001b[39m(agent\u001b[38;5;241m.\u001b[39mmemory) \u001b[38;5;241m>\u001b[39m\u001b[38;5;241m=\u001b[39m batch_size:\n\u001b[1;32m     41\u001b[0m     \u001b[38;5;28;01mfor\u001b[39;00m jjj \u001b[38;5;129;01min\u001b[39;00m  \u001b[38;5;28mrange\u001b[39m(\u001b[38;5;241m4\u001b[39m):\n",
      "\u001b[0;31mRuntimeError\u001b[0m: output with shape [] doesn't match the broadcast shape [1, 1]"
     ]
    },
    {
     "data": {
      "image/png": "[encoded data removed]",
      "text/plain": [
       "<Figure size 300x150 with 1 Axes>"
      ]
     },
     "metadata": {},
     "output_type": "display_data"
    }
   ],
   "source": [
    "\n",
    "rewards = []\n",
    "avg_rewards = []\n",
    "EpisodesNumber = 1000\n",
    "fig= plt.figure(figsize=(FigDim1,FigDim2))\n",
    "pl.style.use('ggplot')\n",
    "pl.rc('xtick', labelsize=7) #fontsize of the x tick labels\n",
    "pl.rc('ytick', labelsize=7) #fontsize of the y tick labels\n",
    "pl.xlabel('episode number', fontsize=9)  \n",
    "pl.ylabel('normalized reward', fontsize=9) \n",
    "pl.rc('text', usetex=True)\n",
    "\n",
    "for episode in range(EpisodesNumber):\n",
    "    episode_reward = 0\n",
    "    print(episode)\n",
    "    ExplorationGamma = (EpisodesNumber - episode) / EpisodesNumber\n",
    "    if (episode%200==0 & episode>1):\n",
    "        print()\n",
    "        #agent.critic_learning_rate = agent.critic_learning_rate * 1/2\n",
    "        #agent.actor_learning_rate = agent.actor_learning_rate * 1/2\n",
    "    for jj in range(RollOuts):\n",
    "        print(jj)\n",
    "        Hyperstate.ChangeInitialStates(torch.rand(rx, 1), torch.diag(torch.rand(rx,)))\n",
    "        for step in range(Horizon_Length):\n",
    "            state = torch.cat((Hyperstate.Mean, half_vectorize(Hyperstate.Covariance))).T.to(device)\n",
    "            action = agent.get_action(state).to(deviceCPU)\n",
    "            action = torch.atleast_2d(action + 1*ExplorationGamma * 2.0*torch.randn(1, 1)).detach()\n",
    "            true_state = sqrtm(Hyperstate.Covariance) @ torch.randn(rx, 1) + Hyperstate.Mean #we might need next t-step\n",
    "            true_state_Plus = stateDynamics(true_state, action) + sqrtm(Q) @ torch.randn(rx, 1)\n",
    "            measurement_Plus_realization = measurementDynamics(true_state_Plus) + sqrtm(R) @ torch.randn(ry, 1)\n",
    "            reward = - torch.sum((Hyperstate.Mean) ** 2 + Hyperstate.Covariance + action ** 2) ###########################\n",
    "            if reward < -Max_reward:\n",
    "                reward = torch.tensor([[-Max_reward]])\n",
    "            Hyperstate.ApplyEKF(action, measurement_Plus_realization)\n",
    "            new_state = torch.cat((Hyperstate.Mean, half_vectorize(Hyperstate.Covariance)))\n",
    "\n",
    "            reward = reward.detach() / Max_reward \n",
    "            #reward = reward.detach().numpy() / Max_reward \n",
    "            agent.memory.push(state, action, new_state.T, reward)\n",
    "            state = new_state\n",
    "            episode_reward += reward * gamma ** step\n",
    "    if len(agent.memory) >= batch_size:\n",
    "        for jjj in  range(4):\n",
    "            agent.update_critic(batch_size)\n",
    "    for jjj in  range(1):\n",
    "        agent.update_actor(batch_size*1)\n",
    "\n",
    "    rewards.append(episode_reward.numpy() / (EffectiveHorizonLength * RollOuts) + 1)\n",
    "    avg_rewards.append(np.mean(rewards[-10:]))\n",
    "    if episode%10==0:\n",
    "        pl.plot(avg_rewards, 'r')\n",
    "        pl.title(round(avg_rewards[-1], 3))\n",
    "        display.clear_output(wait=True)\n",
    "        display.display(pl.gcf())\n",
    "        time.sleep(0.001)\n",
    "\n",
    "\n"
   ]
  },
  {
   "cell_type": "code",
   "execution_count": null,
   "metadata": {},
   "outputs": [
    {
     "name": "stdout",
     "output_type": "stream",
     "text": [
      "tensor([-0.9640])\n"
     ]
    }
   ],
   "source": [
    "gx = torch.zeros(ry,)\n",
    "gx = torch.tanh(torch.tensor([-2]))\n",
    "print(gx)"
   ]
  },
  {
   "cell_type": "code",
   "execution_count": null,
   "metadata": {},
   "outputs": [
    {
     "data": {
      "image/png": "[encoded data removed]",
      "text/plain": [
       "<Figure size 300x150 with 1 Axes>"
      ]
     },
     "metadata": {},
     "output_type": "display_data"
    }
   ],
   "source": [
    "plt.style.use('ggplot')\n",
    "fig= plt.figure(figsize=(FigDim1,FigDim2))\n",
    "plt.rc('xtick', labelsize=7) #fontsize of the x tick labels\n",
    "plt.rc('ytick', labelsize=7) #fontsize of the y tick labels\n",
    "plt.xlabel('episode number', fontsize=9)  \n",
    "plt.ylabel('normalized reward', fontsize=9) \n",
    "plt.rc( 'text', usetex=True )\n",
    "plt.plot(avg_rewards)\n",
    "plt.ylim([0.35, 1])\n",
    "if saveFigs==True:\n",
    "    plt.savefig('Figures/Example1_avgReward.pdf',bbox_inches =\"tight\")\n",
    "plt.show()"
   ]
  },
  {
   "cell_type": "code",
   "execution_count": null,
   "metadata": {},
   "outputs": [
    {
     "name": "stderr",
     "output_type": "stream",
     "text": [
      "/Library/Frameworks/Python.framework/Versions/3.11/lib/python3.11/site-packages/torch/functional.py:504: UserWarning: torch.meshgrid: in an upcoming release, it will be required to pass the indexing argument. (Triggered internally at /Users/runner/work/pytorch/pytorch/pytorch/aten/src/ATen/native/TensorShape.cpp:3484.)\n",
      "  return _VF.meshgrid(tensors, **kwargs)  # type: ignore[attr-defined]\n",
      "/var/folders/zc/g4jpfwpj56g0f8xnsw3h6qw80000gn/T/ipykernel_86661/1287869728.py:13: UserWarning: The use of `x.T` on tensors of dimension other than 2 to reverse their shape is deprecated and it will throw an error in a future release. Consider `x.mT` to transpose batches of matrices or `x.permute(*torch.arange(x.ndim - 1, -1, -1))` to reverse the dimensions of a tensor. (Triggered internally at /Users/runner/work/pytorch/pytorch/pytorch/aten/src/ATen/native/TensorShape.cpp:3575.)\n",
      "  state = torch.tensor((xx[i, j], yy[i, j])).T\n"
     ]
    },
    {
     "ename": "RuntimeError",
     "evalue": "running_mean should contain 2 elements not 9",
     "output_type": "error",
     "traceback": [
      "\u001b[0;31m---------------------------------------------------------------------------\u001b[0m",
      "\u001b[0;31mRuntimeError\u001b[0m                              Traceback (most recent call last)",
      "Cell \u001b[0;32mIn[13], line 15\u001b[0m\n\u001b[1;32m     13\u001b[0m         state \u001b[38;5;241m=\u001b[39m torch\u001b[38;5;241m.\u001b[39mtensor((xx[i, j], yy[i, j]))\u001b[38;5;241m.\u001b[39mT\n\u001b[1;32m     14\u001b[0m         state \u001b[38;5;241m=\u001b[39m torch\u001b[38;5;241m.\u001b[39matleast_2d(state)\n\u001b[0;32m---> 15\u001b[0m         uu[i, j] \u001b[38;5;241m=\u001b[39m \u001b[43mK\u001b[49m\u001b[43m(\u001b[49m\u001b[43mstate\u001b[49m\u001b[43m)\u001b[49m\n\u001b[1;32m     17\u001b[0m plt\u001b[38;5;241m.\u001b[39mcontourf(xx\u001b[38;5;241m.\u001b[39mdetach()\u001b[38;5;241m.\u001b[39mnumpy(), yy\u001b[38;5;241m.\u001b[39mdetach()\u001b[38;5;241m.\u001b[39mnumpy(), uu\u001b[38;5;241m.\u001b[39mdetach()\u001b[38;5;241m.\u001b[39mnumpy())\n\u001b[1;32m     18\u001b[0m plt\u001b[38;5;241m.\u001b[39mcolorbar()\n",
      "File \u001b[0;32m~/Documents/GitHub/Active-Learning-Reinforcement-Learning/ActorCritic.py:47\u001b[0m, in \u001b[0;36mActor.forward\u001b[0;34m(self, state)\u001b[0m\n\u001b[1;32m     45\u001b[0m \u001b[38;5;28mself\u001b[39m\u001b[38;5;241m.\u001b[39meval()\n\u001b[1;32m     46\u001b[0m state \u001b[38;5;241m=\u001b[39m state\u001b[38;5;241m.\u001b[39mto(torch\u001b[38;5;241m.\u001b[39mfloat64)\n\u001b[0;32m---> 47\u001b[0m \u001b[38;5;28;01mreturn\u001b[39;00m \u001b[38;5;241m5\u001b[39m \u001b[38;5;241m*\u001b[39m \u001b[38;5;28;43mself\u001b[39;49m\u001b[38;5;241;43m.\u001b[39;49m\u001b[43mOneFunc\u001b[49m\u001b[43m(\u001b[49m\u001b[43mstate\u001b[49m\u001b[43m)\u001b[49m\n",
      "File \u001b[0;32m/Library/Frameworks/Python.framework/Versions/3.11/lib/python3.11/site-packages/torch/nn/modules/module.py:1501\u001b[0m, in \u001b[0;36mModule._call_impl\u001b[0;34m(self, *args, **kwargs)\u001b[0m\n\u001b[1;32m   1496\u001b[0m \u001b[38;5;66;03m# If we don't have any hooks, we want to skip the rest of the logic in\u001b[39;00m\n\u001b[1;32m   1497\u001b[0m \u001b[38;5;66;03m# this function, and just call forward.\u001b[39;00m\n\u001b[1;32m   1498\u001b[0m \u001b[38;5;28;01mif\u001b[39;00m \u001b[38;5;129;01mnot\u001b[39;00m (\u001b[38;5;28mself\u001b[39m\u001b[38;5;241m.\u001b[39m_backward_hooks \u001b[38;5;129;01mor\u001b[39;00m \u001b[38;5;28mself\u001b[39m\u001b[38;5;241m.\u001b[39m_backward_pre_hooks \u001b[38;5;129;01mor\u001b[39;00m \u001b[38;5;28mself\u001b[39m\u001b[38;5;241m.\u001b[39m_forward_hooks \u001b[38;5;129;01mor\u001b[39;00m \u001b[38;5;28mself\u001b[39m\u001b[38;5;241m.\u001b[39m_forward_pre_hooks\n\u001b[1;32m   1499\u001b[0m         \u001b[38;5;129;01mor\u001b[39;00m _global_backward_pre_hooks \u001b[38;5;129;01mor\u001b[39;00m _global_backward_hooks\n\u001b[1;32m   1500\u001b[0m         \u001b[38;5;129;01mor\u001b[39;00m _global_forward_hooks \u001b[38;5;129;01mor\u001b[39;00m _global_forward_pre_hooks):\n\u001b[0;32m-> 1501\u001b[0m     \u001b[38;5;28;01mreturn\u001b[39;00m \u001b[43mforward_call\u001b[49m\u001b[43m(\u001b[49m\u001b[38;5;241;43m*\u001b[39;49m\u001b[43margs\u001b[49m\u001b[43m,\u001b[49m\u001b[43m \u001b[49m\u001b[38;5;241;43m*\u001b[39;49m\u001b[38;5;241;43m*\u001b[39;49m\u001b[43mkwargs\u001b[49m\u001b[43m)\u001b[49m\n\u001b[1;32m   1502\u001b[0m \u001b[38;5;66;03m# Do not call functions when jit is used\u001b[39;00m\n\u001b[1;32m   1503\u001b[0m full_backward_hooks, non_full_backward_hooks \u001b[38;5;241m=\u001b[39m [], []\n",
      "File \u001b[0;32m/Library/Frameworks/Python.framework/Versions/3.11/lib/python3.11/site-packages/torch/nn/modules/container.py:217\u001b[0m, in \u001b[0;36mSequential.forward\u001b[0;34m(self, input)\u001b[0m\n\u001b[1;32m    215\u001b[0m \u001b[38;5;28;01mdef\u001b[39;00m \u001b[38;5;21mforward\u001b[39m(\u001b[38;5;28mself\u001b[39m, \u001b[38;5;28minput\u001b[39m):\n\u001b[1;32m    216\u001b[0m     \u001b[38;5;28;01mfor\u001b[39;00m module \u001b[38;5;129;01min\u001b[39;00m \u001b[38;5;28mself\u001b[39m:\n\u001b[0;32m--> 217\u001b[0m         \u001b[38;5;28minput\u001b[39m \u001b[38;5;241m=\u001b[39m \u001b[43mmodule\u001b[49m\u001b[43m(\u001b[49m\u001b[38;5;28;43minput\u001b[39;49m\u001b[43m)\u001b[49m\n\u001b[1;32m    218\u001b[0m     \u001b[38;5;28;01mreturn\u001b[39;00m \u001b[38;5;28minput\u001b[39m\n",
      "File \u001b[0;32m/Library/Frameworks/Python.framework/Versions/3.11/lib/python3.11/site-packages/torch/nn/modules/module.py:1501\u001b[0m, in \u001b[0;36mModule._call_impl\u001b[0;34m(self, *args, **kwargs)\u001b[0m\n\u001b[1;32m   1496\u001b[0m \u001b[38;5;66;03m# If we don't have any hooks, we want to skip the rest of the logic in\u001b[39;00m\n\u001b[1;32m   1497\u001b[0m \u001b[38;5;66;03m# this function, and just call forward.\u001b[39;00m\n\u001b[1;32m   1498\u001b[0m \u001b[38;5;28;01mif\u001b[39;00m \u001b[38;5;129;01mnot\u001b[39;00m (\u001b[38;5;28mself\u001b[39m\u001b[38;5;241m.\u001b[39m_backward_hooks \u001b[38;5;129;01mor\u001b[39;00m \u001b[38;5;28mself\u001b[39m\u001b[38;5;241m.\u001b[39m_backward_pre_hooks \u001b[38;5;129;01mor\u001b[39;00m \u001b[38;5;28mself\u001b[39m\u001b[38;5;241m.\u001b[39m_forward_hooks \u001b[38;5;129;01mor\u001b[39;00m \u001b[38;5;28mself\u001b[39m\u001b[38;5;241m.\u001b[39m_forward_pre_hooks\n\u001b[1;32m   1499\u001b[0m         \u001b[38;5;129;01mor\u001b[39;00m _global_backward_pre_hooks \u001b[38;5;129;01mor\u001b[39;00m _global_backward_hooks\n\u001b[1;32m   1500\u001b[0m         \u001b[38;5;129;01mor\u001b[39;00m _global_forward_hooks \u001b[38;5;129;01mor\u001b[39;00m _global_forward_pre_hooks):\n\u001b[0;32m-> 1501\u001b[0m     \u001b[38;5;28;01mreturn\u001b[39;00m \u001b[43mforward_call\u001b[49m\u001b[43m(\u001b[49m\u001b[38;5;241;43m*\u001b[39;49m\u001b[43margs\u001b[49m\u001b[43m,\u001b[49m\u001b[43m \u001b[49m\u001b[38;5;241;43m*\u001b[39;49m\u001b[38;5;241;43m*\u001b[39;49m\u001b[43mkwargs\u001b[49m\u001b[43m)\u001b[49m\n\u001b[1;32m   1502\u001b[0m \u001b[38;5;66;03m# Do not call functions when jit is used\u001b[39;00m\n\u001b[1;32m   1503\u001b[0m full_backward_hooks, non_full_backward_hooks \u001b[38;5;241m=\u001b[39m [], []\n",
      "File \u001b[0;32m/Library/Frameworks/Python.framework/Versions/3.11/lib/python3.11/site-packages/torch/nn/modules/batchnorm.py:171\u001b[0m, in \u001b[0;36m_BatchNorm.forward\u001b[0;34m(self, input)\u001b[0m\n\u001b[1;32m    164\u001b[0m     bn_training \u001b[38;5;241m=\u001b[39m (\u001b[38;5;28mself\u001b[39m\u001b[38;5;241m.\u001b[39mrunning_mean \u001b[38;5;129;01mis\u001b[39;00m \u001b[38;5;28;01mNone\u001b[39;00m) \u001b[38;5;129;01mand\u001b[39;00m (\u001b[38;5;28mself\u001b[39m\u001b[38;5;241m.\u001b[39mrunning_var \u001b[38;5;129;01mis\u001b[39;00m \u001b[38;5;28;01mNone\u001b[39;00m)\n\u001b[1;32m    166\u001b[0m \u001b[38;5;250m\u001b[39m\u001b[38;5;124mr\u001b[39m\u001b[38;5;124;03m\"\"\"\u001b[39;00m\n\u001b[1;32m    167\u001b[0m \u001b[38;5;124;03mBuffers are only updated if they are to be tracked and we are in training mode. Thus they only need to be\u001b[39;00m\n\u001b[1;32m    168\u001b[0m \u001b[38;5;124;03mpassed when the update should occur (i.e. in training mode when they are tracked), or when buffer stats are\u001b[39;00m\n\u001b[1;32m    169\u001b[0m \u001b[38;5;124;03mused for normalization (i.e. in eval mode when buffers are not None).\u001b[39;00m\n\u001b[1;32m    170\u001b[0m \u001b[38;5;124;03m\"\"\"\u001b[39;00m\n\u001b[0;32m--> 171\u001b[0m \u001b[38;5;28;01mreturn\u001b[39;00m \u001b[43mF\u001b[49m\u001b[38;5;241;43m.\u001b[39;49m\u001b[43mbatch_norm\u001b[49m\u001b[43m(\u001b[49m\n\u001b[1;32m    172\u001b[0m \u001b[43m    \u001b[49m\u001b[38;5;28;43minput\u001b[39;49m\u001b[43m,\u001b[49m\n\u001b[1;32m    173\u001b[0m \u001b[43m    \u001b[49m\u001b[38;5;66;43;03m# If buffers are not to be tracked, ensure that they won't be updated\u001b[39;49;00m\n\u001b[1;32m    174\u001b[0m \u001b[43m    \u001b[49m\u001b[38;5;28;43mself\u001b[39;49m\u001b[38;5;241;43m.\u001b[39;49m\u001b[43mrunning_mean\u001b[49m\n\u001b[1;32m    175\u001b[0m \u001b[43m    \u001b[49m\u001b[38;5;28;43;01mif\u001b[39;49;00m\u001b[43m \u001b[49m\u001b[38;5;129;43;01mnot\u001b[39;49;00m\u001b[43m \u001b[49m\u001b[38;5;28;43mself\u001b[39;49m\u001b[38;5;241;43m.\u001b[39;49m\u001b[43mtraining\u001b[49m\u001b[43m \u001b[49m\u001b[38;5;129;43;01mor\u001b[39;49;00m\u001b[43m \u001b[49m\u001b[38;5;28;43mself\u001b[39;49m\u001b[38;5;241;43m.\u001b[39;49m\u001b[43mtrack_running_stats\u001b[49m\n\u001b[1;32m    176\u001b[0m \u001b[43m    \u001b[49m\u001b[38;5;28;43;01melse\u001b[39;49;00m\u001b[43m \u001b[49m\u001b[38;5;28;43;01mNone\u001b[39;49;00m\u001b[43m,\u001b[49m\n\u001b[1;32m    177\u001b[0m \u001b[43m    \u001b[49m\u001b[38;5;28;43mself\u001b[39;49m\u001b[38;5;241;43m.\u001b[39;49m\u001b[43mrunning_var\u001b[49m\u001b[43m \u001b[49m\u001b[38;5;28;43;01mif\u001b[39;49;00m\u001b[43m \u001b[49m\u001b[38;5;129;43;01mnot\u001b[39;49;00m\u001b[43m \u001b[49m\u001b[38;5;28;43mself\u001b[39;49m\u001b[38;5;241;43m.\u001b[39;49m\u001b[43mtraining\u001b[49m\u001b[43m \u001b[49m\u001b[38;5;129;43;01mor\u001b[39;49;00m\u001b[43m \u001b[49m\u001b[38;5;28;43mself\u001b[39;49m\u001b[38;5;241;43m.\u001b[39;49m\u001b[43mtrack_running_stats\u001b[49m\u001b[43m \u001b[49m\u001b[38;5;28;43;01melse\u001b[39;49;00m\u001b[43m \u001b[49m\u001b[38;5;28;43;01mNone\u001b[39;49;00m\u001b[43m,\u001b[49m\n\u001b[1;32m    178\u001b[0m \u001b[43m    \u001b[49m\u001b[38;5;28;43mself\u001b[39;49m\u001b[38;5;241;43m.\u001b[39;49m\u001b[43mweight\u001b[49m\u001b[43m,\u001b[49m\n\u001b[1;32m    179\u001b[0m \u001b[43m    \u001b[49m\u001b[38;5;28;43mself\u001b[39;49m\u001b[38;5;241;43m.\u001b[39;49m\u001b[43mbias\u001b[49m\u001b[43m,\u001b[49m\n\u001b[1;32m    180\u001b[0m \u001b[43m    \u001b[49m\u001b[43mbn_training\u001b[49m\u001b[43m,\u001b[49m\n\u001b[1;32m    181\u001b[0m \u001b[43m    \u001b[49m\u001b[43mexponential_average_factor\u001b[49m\u001b[43m,\u001b[49m\n\u001b[1;32m    182\u001b[0m \u001b[43m    \u001b[49m\u001b[38;5;28;43mself\u001b[39;49m\u001b[38;5;241;43m.\u001b[39;49m\u001b[43meps\u001b[49m\u001b[43m,\u001b[49m\n\u001b[1;32m    183\u001b[0m \u001b[43m\u001b[49m\u001b[43m)\u001b[49m\n",
      "File \u001b[0;32m/Library/Frameworks/Python.framework/Versions/3.11/lib/python3.11/site-packages/torch/nn/functional.py:2450\u001b[0m, in \u001b[0;36mbatch_norm\u001b[0;34m(input, running_mean, running_var, weight, bias, training, momentum, eps)\u001b[0m\n\u001b[1;32m   2447\u001b[0m \u001b[38;5;28;01mif\u001b[39;00m training:\n\u001b[1;32m   2448\u001b[0m     _verify_batch_size(\u001b[38;5;28minput\u001b[39m\u001b[38;5;241m.\u001b[39msize())\n\u001b[0;32m-> 2450\u001b[0m \u001b[38;5;28;01mreturn\u001b[39;00m \u001b[43mtorch\u001b[49m\u001b[38;5;241;43m.\u001b[39;49m\u001b[43mbatch_norm\u001b[49m\u001b[43m(\u001b[49m\n\u001b[1;32m   2451\u001b[0m \u001b[43m    \u001b[49m\u001b[38;5;28;43minput\u001b[39;49m\u001b[43m,\u001b[49m\u001b[43m \u001b[49m\u001b[43mweight\u001b[49m\u001b[43m,\u001b[49m\u001b[43m \u001b[49m\u001b[43mbias\u001b[49m\u001b[43m,\u001b[49m\u001b[43m \u001b[49m\u001b[43mrunning_mean\u001b[49m\u001b[43m,\u001b[49m\u001b[43m \u001b[49m\u001b[43mrunning_var\u001b[49m\u001b[43m,\u001b[49m\u001b[43m \u001b[49m\u001b[43mtraining\u001b[49m\u001b[43m,\u001b[49m\u001b[43m \u001b[49m\u001b[43mmomentum\u001b[49m\u001b[43m,\u001b[49m\u001b[43m \u001b[49m\u001b[43meps\u001b[49m\u001b[43m,\u001b[49m\u001b[43m \u001b[49m\u001b[43mtorch\u001b[49m\u001b[38;5;241;43m.\u001b[39;49m\u001b[43mbackends\u001b[49m\u001b[38;5;241;43m.\u001b[39;49m\u001b[43mcudnn\u001b[49m\u001b[38;5;241;43m.\u001b[39;49m\u001b[43menabled\u001b[49m\n\u001b[1;32m   2452\u001b[0m \u001b[43m\u001b[49m\u001b[43m)\u001b[49m\n",
      "\u001b[0;31mRuntimeError\u001b[0m: running_mean should contain 2 elements not 9"
     ]
    },
    {
     "data": {
      "text/plain": [
       "<Figure size 640x480 with 0 Axes>"
      ]
     },
     "metadata": {},
     "output_type": "display_data"
    }
   ],
   "source": [
    "K = agent.actor.forward#get_action\n",
    "t = torch.atleast_2d(torch.linspace(-7, 7, 100))\n",
    "\n",
    "plt.figure()\n",
    "N=200\n",
    "x=torch.linspace(-15,15,N)\n",
    "y=torch.linspace(0,12,N)\n",
    "xx, yy = torch.meshgrid(x,y)\n",
    "uu = xx - 0.1\n",
    "\n",
    "for i in range(N):\n",
    "    for j in range(N):\n",
    "        state = torch.tensor((xx[i, j], yy[i, j])).T\n",
    "        state = torch.atleast_2d(state)\n",
    "        uu[i, j] = K(state)\n",
    "\n",
    "plt.contourf(xx.detach().numpy(), yy.detach().numpy(), uu.detach().numpy())\n",
    "plt.colorbar()\n"
   ]
  },
  {
   "cell_type": "code",
   "execution_count": null,
   "metadata": {},
   "outputs": [
    {
     "data": {
      "image/png": "[encoded data removed]",
      "text/plain": [
       "<Figure size 300x150 with 1 Axes>"
      ]
     },
     "metadata": {},
     "output_type": "display_data"
    }
   ],
   "source": [
    "T = 100\n",
    "x = np.ones(T)\n",
    "P = np.ones(T)\n",
    "u = np.ones(T)\n",
    "x_true=np.ones(T)\n",
    "\n",
    "StateReq = deque([])\n",
    "ActionReq = deque([])\n",
    "\n",
    "\n",
    "Hyperstate.ChangeInitialStates(torch.atleast_2d(torch.randn(1, 1)), torch.atleast_2d(torch.rand(1, 1)))\n",
    "true_state = torch.sqrt(Hyperstate.Covariance) * torch.randn(1, 1) + Hyperstate.Mean #we might need next t-step\n",
    "\n",
    "for k in range(T):\n",
    "    state = torch.cat((Hyperstate.Mean, Hyperstate.Covariance)).T\n",
    "    action = K(state)\n",
    "    action = torch.atleast_2d(action.detach())\n",
    "    true_state_Plus = stateDynamics(true_state, action) + torch.sqrt(Q) * torch.randn(1, 1)\n",
    "    measurement_Plus_realization = measurementDynamics(true_state_Plus) + torch.sqrt(R) * torch.randn(1, 1)\n",
    "    StateReq.append(state)\n",
    "    ActionReq.append(action)\n",
    "    Hyperstate.ApplyEKF(action, measurement_Plus_realization)\n",
    "    true_state = true_state_Plus\n",
    "    x_true[k] = true_state[0,0].detach().numpy()\n",
    "\n",
    "\n",
    "for i in range(T):\n",
    "    A = StateReq[i].detach().numpy()\n",
    "    x[i] = A[0,0]\n",
    "    P[i] = A[0,1]\n",
    "    A = ActionReq[i].detach().numpy()\n",
    "    u[i] = A[0,0]\n",
    "\n",
    "plt.style.use('ggplot')\n",
    "fig= plt.figure(figsize=(FigDim1,FigDim2))\n",
    "plt.rc('xtick', labelsize=7) #fontsize of the x tick labels\n",
    "plt.rc('ytick', labelsize=7) #fontsize of the y tick labels\n",
    "plt.xlabel('$k$', fontsize=9)  \n",
    "plt.ylabel('magnitude', fontsize=9) \n",
    "plt.rc( 'text', usetex=True )\n",
    "\n",
    "k=56\n",
    "plt.plot(range(T), x, color=list(colors.cnames)[k+4])\n",
    "plt.plot(range(T), P, color=list(colors.cnames)[k+2])\n",
    "plt.plot(range(T), x_true, linewidth = 1, color=list(colors.cnames)[k+3])\n",
    "\n",
    "if saveFigs==True:\n",
    "   plt.savefig('Figures/Example1_ReinfLearn.pdf',bbox_inches =\"tight\")\n"
   ]
  },
  {
   "cell_type": "code",
   "execution_count": null,
   "metadata": {},
   "outputs": [
    {
     "data": {
      "image/png": "[encoded data removed]",
      "text/plain": [
       "<Figure size 300x150 with 1 Axes>"
      ]
     },
     "metadata": {},
     "output_type": "display_data"
    }
   ],
   "source": [
    "Klqr_tensor = torch.from_numpy(Klqr)\n",
    "x = np.ones(T)\n",
    "P = np.ones(T)\n",
    "x_true=np.ones(T)\n",
    "\n",
    "StateReq = deque([])\n",
    "ActionReq = deque([])\n",
    "\n",
    "Hyperstate.ChangeInitialStates(torch.atleast_2d(torch.randn(1, 1)), torch.atleast_2d(torch.rand(1, 1)))\n",
    "true_state = torch.sqrt(Hyperstate.Covariance) * torch.randn(1, 1) + Hyperstate.Mean \n",
    "\n",
    "for k in range(T):\n",
    "    state = torch.cat((Hyperstate.Mean, Hyperstate.Covariance)).T\n",
    "    action = -Klqr_tensor * (state[0,0]) \n",
    "    action = action.clip(-5, 5)\n",
    "    action = torch.atleast_2d(action.detach())\n",
    "    true_state_Plus = stateDynamics(true_state, action) + torch.sqrt(Q) * torch.randn(1, 1)\n",
    "    measurement_Plus_realization = measurementDynamics(true_state_Plus) + torch.sqrt(R) * torch.randn(1, 1)\n",
    "    StateReq.append(state)\n",
    "    Hyperstate.ApplyEKF(action, measurement_Plus_realization)\n",
    "    true_state = true_state_Plus\n",
    "    x_true[k] = true_state[0,0].detach().numpy()\n",
    "\n",
    "for i in range(T):\n",
    "    A = StateReq[i].detach().numpy()\n",
    "    x[i] = A[0,0]\n",
    "    P[i] = A[0,1]\n",
    "\n",
    "plt.style.use('ggplot')\n",
    "fig= plt.figure(figsize=(FigDim1,FigDim2))\n",
    "plt.rc('xtick', labelsize=7) #fontsize of the x tick labels\n",
    "plt.rc('ytick', labelsize=7) #fontsize of the y tick labels\n",
    "plt.xlabel('$k$', fontsize=9)  \n",
    "#plt.ylabel('$k$', fontsize=9) \n",
    "plt.ylabel('magnitude', fontsize=9) \n",
    "plt.rc( 'text', usetex=True )\n",
    "#plt.ylim([-500, 500])\n",
    "k=56\n",
    "plt.plot(range(T), x, color=list(colors.cnames)[k+4])\n",
    "plt.plot(range(T), P, color=list(colors.cnames)[k+2])\n",
    "plt.plot(range(T), x_true, linewidth = 1,color=list(colors.cnames)[k+3])\n",
    "if saveFigs==True:\n",
    "    plt.savefig('Figures/Example1_LQR.pdf',bbox_inches =\"tight\")\n"
   ]
  },
  {
   "cell_type": "code",
   "execution_count": null,
   "metadata": {},
   "outputs": [
    {
     "name": "stdout",
     "output_type": "stream",
     "text": [
      "<bound method Actor.forward of Actor(\n",
      "  (OneFunc): Sequential(\n",
      "    (0): BatchNorm1d(2, eps=1e-05, momentum=0.1, affine=True, track_running_stats=True)\n",
      "    (1): Linear(in_features=2, out_features=64, bias=True)\n",
      "    (2): ELU(alpha=1.0)\n",
      "    (3): BatchNorm1d(64, eps=1e-05, momentum=0.1, affine=True, track_running_stats=True)\n",
      "    (4): Linear(in_features=64, out_features=64, bias=True)\n",
      "    (5): ELU(alpha=1.0)\n",
      "    (6): BatchNorm1d(64, eps=1e-05, momentum=0.1, affine=True, track_running_stats=True)\n",
      "    (7): Linear(in_features=64, out_features=1, bias=True)\n",
      "    (8): Tanh()\n",
      "  )\n",
      ")>\n",
      "tensor([[-2.7086]], grad_fn=<MulBackward0>)\n"
     ]
    }
   ],
   "source": [
    "\n",
    "import pickle\n",
    "\n",
    "with open('StateFeedbackGainFunction.pkl', 'wb') as outp:\n",
    "    pickle.dump(K, outp, pickle.HIGHEST_PROTOCOL)\n",
    "\n",
    "\n",
    "with open('StateFeedbackGainFunction.pkl', 'rb') as inp:\n",
    "    K1 = pickle.load(inp)\n",
    "    print(K1)\n",
    "\n",
    "A = torch.tensor([1,1])\n",
    "print(K1(torch.atleast_2d(A)))"
   ]
  },
  {
   "cell_type": "code",
   "execution_count": null,
   "metadata": {},
   "outputs": [],
   "source": []
  }
 ],
 "metadata": {
  "kernelspec": {
   "display_name": "base",
   "language": "python",
   "name": "python3"
  },
  "language_info": {
   "codemirror_mode": {
    "name": "ipython",
    "version": 3
   },
   "file_extension": ".py",
   "mimetype": "text/x-python",
   "name": "python",
   "nbconvert_exporter": "python",
   "pygments_lexer": "ipython3",
   "version": "3.11.5"
  },
  "orig_nbformat": 4
 },
 "nbformat": 4,
 "nbformat_minor": 2
}
