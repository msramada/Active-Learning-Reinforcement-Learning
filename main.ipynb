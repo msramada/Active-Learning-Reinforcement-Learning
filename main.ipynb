{
 "cells": [
  {
   "cell_type": "code",
   "execution_count": 11,
   "metadata": {},
   "outputs": [
    {
     "name": "stdout",
     "output_type": "stream",
     "text": [
      "cpu\n"
     ]
    }
   ],
   "source": [
    "import numpy as np\n",
    "from collections import deque\n",
    "import control\n",
    "import torch\n",
    "torch.set_default_dtype(torch.float64)\n",
    "\n",
    "import matplotlib.pyplot as plt\n",
    "import matplotlib.colors as colors\n",
    "saveFigs = True\n",
    "FigDim1 = 3.0\n",
    "FigDim2 = 1.5\n",
    "\n",
    "from DeterministicPolicyGradient import DDPGagent\n",
    "from utils import *\n",
    "from ExtendedKF import *\n",
    "from Example_system import *\n",
    "from sqrtm import sqrtm\n",
    "import time\n",
    "import pylab as pl\n",
    "from IPython import display\n",
    "\n",
    "device = torch.device(\"cuda\" if torch.cuda.is_available() else \"cpu\")\n",
    "deviceCPU = \"cpu\"\n",
    "print(device)"
   ]
  },
  {
   "cell_type": "code",
   "execution_count": 12,
   "metadata": {},
   "outputs": [],
   "source": [
    "# Define model: dynamics, dynamics gradients, and noise covariances.\n",
    "model = Model(stateDynamics, measurementDynamics, Q, R)\n",
    "# Define information state: (mean, covariance), from an extended Kalman Fitler.\n",
    "x0=torch.tensor([[0.1, 0.1, 0.1]])\n",
    "P0=torch.diag(torch.tensor([0.5,0.5,0.5]))\n",
    "Hyperstate = Extended_KF(x0, P0, model)\n",
    "hidden_size = 64\n",
    "actor_lr = 1e-4# * 10\n",
    "critic_lr = actor_lr * 10\n",
    "#noise = OUNoise(ru, uMax, uMin)\n",
    "Horizon_Length = 16\n",
    "RollOuts = 16*2\n",
    "batch_size = 32#Horizon_Length# * RollOuts\n",
    "gamma = 0.95\n",
    "Max_reward = 500\n",
    "EffectiveHorizonLength = (1 - gamma ** Horizon_Length) / (1 - gamma)\n",
    "agent = DDPGagent(rx,ru, device, hidden_size, actor_lr, critic_lr, gamma, max_memory_size= batch_size * 32, tau=0.01)"
   ]
  },
  {
   "cell_type": "code",
   "execution_count": 13,
   "metadata": {},
   "outputs": [],
   "source": [
    "def half_vectorize(A):\n",
    "    n = A.shape[0]\n",
    "    m = round((n ** 2 + n)/2)\n",
    "    v = torch.zeros(m, 1)\n",
    "    k = 0\n",
    "    for i in range(n):\n",
    "        for j in range(n):\n",
    "            if (i <= j):\n",
    "                v[k,0] = A[i,j]\n",
    "                k += 1\n",
    "    return v\n",
    "            \n",
    "        "
   ]
  },
  {
   "cell_type": "code",
   "execution_count": 14,
   "metadata": {},
   "outputs": [
    {
     "data": {
      "image/png": "[encoded data removed]",
      "text/plain": [
       "<Figure size 300x150 with 1 Axes>"
      ]
     },
     "metadata": {},
     "output_type": "display_data"
    }
   ],
   "source": [
    "\n",
    "rewards = []\n",
    "avg_rewards = []\n",
    "EpisodesNumber = 1000\n",
    "fig= plt.figure(figsize=(FigDim1,FigDim2))\n",
    "pl.style.use('ggplot')\n",
    "pl.rc('xtick', labelsize=7) #fontsize of the x tick labels\n",
    "pl.rc('ytick', labelsize=7) #fontsize of the y tick labels\n",
    "pl.xlabel('episode number', fontsize=9)  \n",
    "pl.ylabel('normalized reward', fontsize=9) \n",
    "pl.rc('text', usetex=True)\n",
    "\n",
    "for episode in range(EpisodesNumber):\n",
    "    episode_reward = 0\n",
    "    ExplorationGamma = (EpisodesNumber - episode) / EpisodesNumber\n",
    "    if (episode%200==0 & episode>1):\n",
    "        print(episode)\n",
    "        #agent.critic_learning_rate = agent.critic_learning_rate * 1/2\n",
    "        #agent.actor_learning_rate = agent.actor_learning_rate * 1/2\n",
    "    for jj in range(RollOuts):\n",
    "        Hyperstate.ChangeInitialStates(torch.rand(rx, 1), torch.diag(torch.rand(rx,)))\n",
    "        true_state = sqrtm(Hyperstate.Covariance) @ torch.randn(rx, 1) + Hyperstate.Mean #we might need next t-step\n",
    "        for step in range(Horizon_Length):\n",
    "            state = torch.cat((Hyperstate.Mean, half_vectorize(Hyperstate.Covariance))).T.to(device)\n",
    "            action = agent.get_action(state).to(deviceCPU)\n",
    "            action = torch.atleast_2d(action + 1*ExplorationGamma * 2.0*torch.randn(1, 1)).detach()\n",
    "            #true_state = sqrtm(Hyperstate.Covariance) @ torch.randn(rx, 1) + Hyperstate.Mean #we might need next t-step\n",
    "            true_state_Plus = stateDynamics(true_state, action) + sqrtm(Q) @ torch.randn(rx, 1)\n",
    "            true_state = true_state_Plus\n",
    "            measurement_Plus_realization = measurementDynamics(true_state_Plus) + sqrtm(R) @ torch.randn(ry, 1)\n",
    "            reward = - torch.mean((Hyperstate.Mean) ** 2 + Hyperstate.Covariance + action ** 2) ###########################\n",
    "            reward = torch.atleast_2d(reward)\n",
    "            if reward < -Max_reward:\n",
    "                reward = torch.tensor([[-Max_reward]])\n",
    "            Hyperstate.ApplyEKF(action, measurement_Plus_realization)\n",
    "            new_state = torch.cat((Hyperstate.Mean, half_vectorize(Hyperstate.Covariance)))\n",
    "\n",
    "            reward = reward.detach() / Max_reward \n",
    "            #reward = reward.detach().numpy() / Max_reward \n",
    "            agent.memory.push(state, action, new_state.T, reward)\n",
    "            state = new_state\n",
    "            episode_reward += reward * gamma ** step\n",
    "    if len(agent.memory) >= batch_size:\n",
    "        for jjj in  range(4):\n",
    "            agent.update_critic(batch_size)\n",
    "    for jjj in  range(1):\n",
    "        agent.update_actor(batch_size*1)\n",
    "\n",
    "    rewards.append(episode_reward.numpy() / (EffectiveHorizonLength * RollOuts) + 1)\n",
    "    avg_rewards.append(np.mean(rewards[-10:]))\n",
    "    if episode%10==0:\n",
    "        pl.plot(avg_rewards, 'r')\n",
    "        pl.title(round(avg_rewards[-1], 3))\n",
    "        display.clear_output(wait=True)\n",
    "        display.display(pl.gcf())\n",
    "        time.sleep(0.001)\n",
    "\n",
    "\n"
   ]
  },
  {
   "cell_type": "code",
   "execution_count": null,
   "metadata": {},
   "outputs": [
    {
     "data": {
      "image/png": "[encoded data removed]",
      "text/plain": [
       "<Figure size 300x150 with 1 Axes>"
      ]
     },
     "metadata": {},
     "output_type": "display_data"
    }
   ],
   "source": [
    "plt.style.use('ggplot')\n",
    "fig= plt.figure(figsize=(FigDim1,FigDim2))\n",
    "plt.rc('xtick', labelsize=7) #fontsize of the x tick labels\n",
    "plt.rc('ytick', labelsize=7) #fontsize of the y tick labels\n",
    "plt.xlabel('episode number', fontsize=9)  \n",
    "plt.ylabel('normalized reward', fontsize=9) \n",
    "plt.rc( 'text', usetex=True )\n",
    "plt.plot(avg_rewards)\n",
    "plt.ylim([0.35, 1])\n",
    "if saveFigs==True:\n",
    "    plt.savefig('Figures/Example1_avgReward.pdf',bbox_inches =\"tight\")\n",
    "plt.show()"
   ]
  },
  {
   "cell_type": "code",
   "execution_count": null,
   "metadata": {},
   "outputs": [
    {
     "data": {
      "image/png": "[encoded data removed]",
      "text/plain": [
       "<Figure size 300x150 with 1 Axes>"
      ]
     },
     "metadata": {},
     "output_type": "display_data"
    }
   ],
   "source": [
    "T = 100\n",
    "x = np.ones(T)\n",
    "P = np.ones(T)\n",
    "u = np.ones(T)\n",
    "x_true=np.ones(T)\n",
    "\n",
    "StateReq = deque([])\n",
    "ActionReq = deque([])\n",
    "\n",
    "\n",
    "Hyperstate.ChangeInitialStates(torch.rand(rx, 1), torch.diag(torch.rand(rx,)))\n",
    "true_state = sqrtm(Hyperstate.Covariance) @ torch.randn(rx, 1) + Hyperstate.Mean #we might need next t-step\n",
    "\n",
    "K_RL = agent.actor.forward #get_action\n",
    "\n",
    "for k in range(T):\n",
    "    state = torch.cat((Hyperstate.Mean, half_vectorize(Hyperstate.Covariance))).T\n",
    "    action = K_RL(state)\n",
    "    action = torch.atleast_2d(action.detach())\n",
    "    true_state_Plus = stateDynamics(true_state, action) + sqrtm(Q) @ torch.randn(rx, 1)\n",
    "    measurement_Plus_realization =  measurementDynamics(true_state_Plus) + sqrtm(R) @ torch.randn(ry, 1)\n",
    "    true_state = sqrtm(Hyperstate.Covariance) @ torch.randn(rx, 1) + Hyperstate.Mean #we might need next t-step\n",
    "    reward = - torch.mean((Hyperstate.Mean) ** 2 + Hyperstate.Covariance + action ** 2) ###########################\n",
    "    StateReq.append(state)\n",
    "    ActionReq.append(action)\n",
    "    Hyperstate.ApplyEKF(action, measurement_Plus_realization)\n",
    "    true_state = true_state_Plus\n",
    "    x_true[k] = true_state[0,0].detach().numpy()\n",
    "\n",
    "\n",
    "for i in range(T):\n",
    "    A = StateReq[i].detach().numpy()\n",
    "    x[i] = A[0,0]\n",
    "    P[i] = A[0,1]\n",
    "    A = ActionReq[i].detach().numpy()\n",
    "    u[i] = A[0,0]\n",
    "\n",
    "plt.style.use('ggplot')\n",
    "fig= plt.figure(figsize=(FigDim1,FigDim2))\n",
    "plt.rc('xtick', labelsize=7) #fontsize of the x tick labels\n",
    "plt.rc('ytick', labelsize=7) #fontsize of the y tick labels\n",
    "plt.xlabel('$k$', fontsize=9)  \n",
    "plt.ylabel('magnitude', fontsize=9) \n",
    "plt.rc( 'text', usetex=True )\n",
    "\n",
    "k=56\n",
    "plt.plot(range(T), x, color=list(colors.cnames)[k+4])\n",
    "plt.plot(range(T), P, color=list(colors.cnames)[k+2])\n",
    "plt.plot(range(T), x_true, linewidth = 1, color=list(colors.cnames)[k+3])\n",
    "\n",
    "if saveFigs==True:\n",
    "   plt.savefig('Figures/Example1_ReinfLearn.pdf',bbox_inches =\"tight\")\n"
   ]
  },
  {
   "cell_type": "code",
   "execution_count": null,
   "metadata": {},
   "outputs": [
    {
     "data": {
      "image/png": "[encoded data removed]",
      "text/plain": [
       "<Figure size 300x150 with 1 Axes>"
      ]
     },
     "metadata": {},
     "output_type": "display_data"
    }
   ],
   "source": [
    "Klqr_tensor = torch.from_numpy(Klqr)\n",
    "x = np.ones(T)\n",
    "P = np.ones(T)\n",
    "x_true=np.ones(T)\n",
    "\n",
    "StateReq = deque([])\n",
    "ActionReq = deque([])\n",
    "\n",
    "Hyperstate.ChangeInitialStates(torch.atleast_2d(torch.randn(1, 1)), torch.atleast_2d(torch.rand(1, 1)))\n",
    "true_state = torch.sqrt(Hyperstate.Covariance) * torch.randn(1, 1) + Hyperstate.Mean \n",
    "\n",
    "for k in range(T):\n",
    "    state = torch.cat((Hyperstate.Mean, Hyperstate.Covariance)).T\n",
    "    action = -Klqr_tensor * (state[0,0]) \n",
    "    action = action.clip(-5, 5)\n",
    "    action = torch.atleast_2d(action.detach())\n",
    "    true_state_Plus = stateDynamics(true_state, action) + torch.sqrt(Q) * torch.randn(1, 1)\n",
    "    measurement_Plus_realization = measurementDynamics(true_state_Plus) + torch.sqrt(R) * torch.randn(1, 1)\n",
    "    StateReq.append(state)\n",
    "    Hyperstate.ApplyEKF(action, measurement_Plus_realization)\n",
    "    true_state = true_state_Plus\n",
    "    x_true[k] = true_state[0,0].detach().numpy()\n",
    "\n",
    "for i in range(T):\n",
    "    A = StateReq[i].detach().numpy()\n",
    "    x[i] = A[0,0]\n",
    "    P[i] = A[0,1]\n",
    "\n",
    "plt.style.use('ggplot')\n",
    "fig= plt.figure(figsize=(FigDim1,FigDim2))\n",
    "plt.rc('xtick', labelsize=7) #fontsize of the x tick labels\n",
    "plt.rc('ytick', labelsize=7) #fontsize of the y tick labels\n",
    "plt.xlabel('$k$', fontsize=9)  \n",
    "#plt.ylabel('$k$', fontsize=9) \n",
    "plt.ylabel('magnitude', fontsize=9) \n",
    "plt.rc( 'text', usetex=True )\n",
    "#plt.ylim([-500, 500])\n",
    "k=56\n",
    "plt.plot(range(T), x, color=list(colors.cnames)[k+4])\n",
    "plt.plot(range(T), P, color=list(colors.cnames)[k+2])\n",
    "plt.plot(range(T), x_true, linewidth = 1,color=list(colors.cnames)[k+3])\n",
    "if saveFigs==True:\n",
    "    plt.savefig('Figures/Example1_LQR.pdf',bbox_inches =\"tight\")\n"
   ]
  },
  {
   "cell_type": "code",
   "execution_count": null,
   "metadata": {},
   "outputs": [
    {
     "name": "stdout",
     "output_type": "stream",
     "text": [
      "<bound method Actor.forward of Actor(\n",
      "  (OneFunc): Sequential(\n",
      "    (0): BatchNorm1d(2, eps=1e-05, momentum=0.1, affine=True, track_running_stats=True)\n",
      "    (1): Linear(in_features=2, out_features=64, bias=True)\n",
      "    (2): ELU(alpha=1.0)\n",
      "    (3): BatchNorm1d(64, eps=1e-05, momentum=0.1, affine=True, track_running_stats=True)\n",
      "    (4): Linear(in_features=64, out_features=64, bias=True)\n",
      "    (5): ELU(alpha=1.0)\n",
      "    (6): BatchNorm1d(64, eps=1e-05, momentum=0.1, affine=True, track_running_stats=True)\n",
      "    (7): Linear(in_features=64, out_features=1, bias=True)\n",
      "    (8): Tanh()\n",
      "  )\n",
      ")>\n",
      "tensor([[-2.7086]], grad_fn=<MulBackward0>)\n"
     ]
    }
   ],
   "source": [
    "\n",
    "import pickle\n",
    "\n",
    "with open('StateFeedbackGainFunction.pkl', 'wb') as outp:\n",
    "    pickle.dump(K, outp, pickle.HIGHEST_PROTOCOL)\n",
    "\n",
    "\n",
    "with open('StateFeedbackGainFunction.pkl', 'rb') as inp:\n",
    "    K1 = pickle.load(inp)\n",
    "    print(K1)\n",
    "\n",
    "A = torch.tensor([1,1])\n",
    "print(K1(torch.atleast_2d(A)))"
   ]
  },
  {
   "cell_type": "code",
   "execution_count": null,
   "metadata": {},
   "outputs": [],
   "source": []
  }
 ],
 "metadata": {
  "kernelspec": {
   "display_name": "base",
   "language": "python",
   "name": "python3"
  },
  "language_info": {
   "codemirror_mode": {
    "name": "ipython",
    "version": 3
   },
   "file_extension": ".py",
   "mimetype": "text/x-python",
   "name": "python",
   "nbconvert_exporter": "python",
   "pygments_lexer": "ipython3",
   "version": "3.11.5"
  },
  "orig_nbformat": 4
 },
 "nbformat": 4,
 "nbformat_minor": 2
}
